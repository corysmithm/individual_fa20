{
 "cells": [
  {
   "cell_type": "markdown",
   "metadata": {},
   "source": [
    "# Names & GitHub ID\n",
    "\n",
    "- Name: Cory Smith\n",
    "- GitHub Username: corysmithm"
   ]
  },
  {
   "cell_type": "markdown",
   "metadata": {},
   "source": [
    "# Research Question"
   ]
  },
  {
   "cell_type": "markdown",
   "metadata": {},
   "source": [
    "What parts of San Diego are most in need of new or updated outdoors sports courts, specifically pickleball courts? "
   ]
  },
  {
   "cell_type": "markdown",
   "metadata": {},
   "source": [
    "## Background and Prior Work"
   ]
  },
  {
   "cell_type": "markdown",
   "metadata": {},
   "source": [
    "Pickeball is a very hot new outdoor sport that involves a wiffle ball and stiff paddles.  It is often played on its own small court, but a tennis court can be reconstructed to fit a pickleball court's dimensions. While searching for outdoor places to play pickleball, only a handful of options popped up. To be more precise, there are only about 65 pickleball courts. Contrast this with more than 159 tennis courts, with 140 of them being lighted. However, there may be some overlap of tennis and pickleball courts. Also, tennis and pickleball courts played at clubs may shouldn't count towards number of courts in recreational parks. \n",
    "\n",
    "Pickleball is a sport for all ages, but has been most popular among older folks upwards of 40 years old. It requires less agility than tennis and has a fast learning curve. Playing pickleball only 3 times a week can have significant health benefits in the long term. As you get older, you can't play the same sports you always grew up playing. Since pickleball is a very social, competitive, and easy to learn game, the pickleball landscape has been expanding rapidly.\n",
    "\n",
    "With pickleball's rise to fame, there has been a lot of new findings and research. One study tries to assess what the reason is for Older Adults liking and appreciation for Pickleball. The paper is titled, \"Psychological Connection to Pickleball: Assessing Motives and Participation in Older Adults.\" The paper highlights that there is strong correlation between motives for skill mastery and competition were strong indications of the highest connection levels. \n",
    "\n",
    "\n",
    "References (include links):\n",
    "\n",
    "- 1) https://www.google.com/search?q=pickleball+courts+in+san+diego&npsic=0&rflfq=1&rldoc=1&rlha=0&rllag=32777707,-117227172,2778&tbm=lcl&sa=X&ved=2ahUKEwj9q6z1oszsAhWQtp4KHVnFD_gQjGp6BAgKEFI&biw=1440&bih=789#rlfi=hd:;si:;mv:[[33.069137,-117.00077489999998],[32.6618122,-117.2593613]]\n",
    "- 2) https://www.sandiegomagazine.com/outdoors/sports/the-best-tennis-courts-and-clubs-in-san-diego/article_2cafb064-af68-502d-904a-119a2d0ee6ec.html#:~:text=In%20the%20City%20of%20San,with%20lights%20for%20nighttime%20play.\n",
    "-3) https://pubmed.ncbi.nlm.nih.gov/29543109/"
   ]
  },
  {
   "cell_type": "markdown",
   "metadata": {},
   "source": [
    "# Hypothesis\n"
   ]
  },
  {
   "cell_type": "markdown",
   "metadata": {},
   "source": [
    "I believe that San Diego parks located relatively close (within 10 miles) to the coast are the most in need of new and updated courts. I believe this is due to the fact that there are more active people near the beach and because these parks are used at a much higher rate than downtown or inland."
   ]
  },
  {
   "cell_type": "markdown",
   "metadata": {},
   "source": [
    "# Data"
   ]
  },
  {
   "cell_type": "markdown",
   "metadata": {},
   "source": [
    "The ideal dataset that would be needed to answer this question is one that collects data all the current pickleball courts that are available in San Diego. Along with this, each court would be grouped by the frequency of games played over a day, the amount of activity at these courts, their satisfaction levels with the courts, and the age groups. Since there are currently only about 60 pickleball courts in San Diego, over 400 observations would be an adequate sample size. The data about activity level and interest or potential interest would need to sent out as a survey to all citizens within San Diego to get an accurate gauge.\n",
    "\n",
    "The data that is hard to measure is where there is a need for pickleball courts at particular parks,  since it is difficult to track people showing up to courts if there is no court to play at. Luckily, parks with tennis courts are a good indication of potential pickleball players since the connection of players between tennis and pickleball is very high. Also, looking at other coastal cities can be a strong indication of potential growth of pickleball in San Diego.  \n"
   ]
  },
  {
   "cell_type": "markdown",
   "metadata": {},
   "source": [
    "# Ethics & Privacy"
   ]
  },
  {
   "cell_type": "markdown",
   "metadata": {},
   "source": [
    "Since the data collected and analyzed will be public information, there may arise concerns with using tracing of activity at parks. There may be potential biases among the different parks that we look at due to locational differences among cities and the demographics that compose each city. Other biases include comparing tennis courts and already existing courts due to assumptions made without the concrete evidence of actual pickleball courts, and the effect of the social distancing on recorded activity. There also may be biases in the data due to pickleball being a fairly new game, meaning that there may be different levels of familiarity with the game when answering the survey.\n",
    "\n",
    "To combat these potential issues, it is important to anonymize all of the data that is collected, removing any names, ID's, or anything that would potentially give away someone's identity for privacy reasons. Since there aren't many privacy concerns about the information collected related to a particular park, there will be no need to remove addresses and information related to the park. A way to reduce bias in the survey is to provide a strong concise messgae familiarizing people with pickleball, what the survey is trying to measure,and making sure that the survey is accessible to everyone online due to social distancing restrictions."
   ]
  },
  {
   "cell_type": "code",
   "execution_count": null,
   "metadata": {},
   "outputs": [],
   "source": []
  }
 ],
 "metadata": {
  "kernelspec": {
   "display_name": "Python 3",
   "language": "python",
   "name": "python3"
  },
  "language_info": {
   "codemirror_mode": {
    "name": "ipython",
    "version": 3
   },
   "file_extension": ".py",
   "mimetype": "text/x-python",
   "name": "python",
   "nbconvert_exporter": "python",
   "pygments_lexer": "ipython3",
   "version": "3.8.3"
  }
 },
 "nbformat": 4,
 "nbformat_minor": 2
}
